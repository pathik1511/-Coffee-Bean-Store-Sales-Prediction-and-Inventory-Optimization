{
  "nbformat": 4,
  "nbformat_minor": 0,
  "metadata": {
    "colab": {
      "name": "tabular_Data_generation_using_CTGAN.ipynb",
      "provenance": [],
      "collapsed_sections": []
    },
    "kernelspec": {
      "name": "python3",
      "display_name": "Python 3"
    },
    "language_info": {
      "name": "python"
    }
  },
  "cells": [
    {
      "cell_type": "code",
      "execution_count": null,
      "metadata": {
        "colab": {
          "base_uri": "https://localhost:8080/"
        },
        "id": "rnm7igOoRkxc",
        "outputId": "e07c5f40-c5e6-434b-9939-f451d6655816"
      },
      "outputs": [
        {
          "output_type": "stream",
          "name": "stdout",
          "text": [
            "Requirement already satisfied: sdv in /usr/local/lib/python3.7/dist-packages (0.14.0)\n",
            "Requirement already satisfied: tqdm<5,>=4.15 in /usr/local/lib/python3.7/dist-packages (from sdv) (4.64.0)\n",
            "Requirement already satisfied: graphviz<1,>=0.13.2 in /usr/local/lib/python3.7/dist-packages (from sdv) (0.19.2)\n",
            "Requirement already satisfied: ctgan<0.6,>=0.5.1 in /usr/local/lib/python3.7/dist-packages (from sdv) (0.5.1)\n",
            "Requirement already satisfied: numpy<2,>=1.20.0 in /usr/local/lib/python3.7/dist-packages (from sdv) (1.21.5)\n",
            "Requirement already satisfied: copulas<0.7,>=0.6.1 in /usr/local/lib/python3.7/dist-packages (from sdv) (0.6.1)\n",
            "Requirement already satisfied: sdmetrics<0.5,>=0.4.1 in /usr/local/lib/python3.7/dist-packages (from sdv) (0.4.1)\n",
            "Requirement already satisfied: pandas<2,>=1.1.3 in /usr/local/lib/python3.7/dist-packages (from sdv) (1.3.5)\n",
            "Requirement already satisfied: Faker<10,>=3.0.0 in /usr/local/lib/python3.7/dist-packages (from sdv) (9.9.1)\n",
            "Requirement already satisfied: rdt<0.7,>=0.6.2 in /usr/local/lib/python3.7/dist-packages (from sdv) (0.6.4)\n",
            "Requirement already satisfied: deepecho<0.4,>=0.3.0.post1 in /usr/local/lib/python3.7/dist-packages (from sdv) (0.3.0.post1)\n",
            "Requirement already satisfied: matplotlib<4,>=3.4.0 in /usr/local/lib/python3.7/dist-packages (from copulas<0.7,>=0.6.1->sdv) (3.5.1)\n",
            "Requirement already satisfied: scipy<2,>=1.5.4 in /usr/local/lib/python3.7/dist-packages (from copulas<0.7,>=0.6.1->sdv) (1.7.3)\n",
            "Requirement already satisfied: torch<2,>=1.8.0 in /usr/local/lib/python3.7/dist-packages (from ctgan<0.6,>=0.5.1->sdv) (1.10.0+cu111)\n",
            "Requirement already satisfied: packaging<22,>=20 in /usr/local/lib/python3.7/dist-packages (from ctgan<0.6,>=0.5.1->sdv) (21.3)\n",
            "Requirement already satisfied: scikit-learn<2,>=0.24 in /usr/local/lib/python3.7/dist-packages (from ctgan<0.6,>=0.5.1->sdv) (1.0.2)\n",
            "Requirement already satisfied: torchvision<1,>=0.9.0 in /usr/local/lib/python3.7/dist-packages (from ctgan<0.6,>=0.5.1->sdv) (0.11.1+cu111)\n",
            "Requirement already satisfied: text-unidecode==1.3 in /usr/local/lib/python3.7/dist-packages (from Faker<10,>=3.0.0->sdv) (1.3)\n",
            "Requirement already satisfied: typing-extensions>=3.10.0.2 in /usr/local/lib/python3.7/dist-packages (from Faker<10,>=3.0.0->sdv) (4.1.1)\n",
            "Requirement already satisfied: python-dateutil>=2.4 in /usr/local/lib/python3.7/dist-packages (from Faker<10,>=3.0.0->sdv) (2.8.2)\n",
            "Requirement already satisfied: fonttools>=4.22.0 in /usr/local/lib/python3.7/dist-packages (from matplotlib<4,>=3.4.0->copulas<0.7,>=0.6.1->sdv) (4.32.0)\n",
            "Requirement already satisfied: cycler>=0.10 in /usr/local/lib/python3.7/dist-packages (from matplotlib<4,>=3.4.0->copulas<0.7,>=0.6.1->sdv) (0.11.0)\n",
            "Requirement already satisfied: pyparsing>=2.2.1 in /usr/local/lib/python3.7/dist-packages (from matplotlib<4,>=3.4.0->copulas<0.7,>=0.6.1->sdv) (3.0.8)\n",
            "Requirement already satisfied: kiwisolver>=1.0.1 in /usr/local/lib/python3.7/dist-packages (from matplotlib<4,>=3.4.0->copulas<0.7,>=0.6.1->sdv) (1.4.2)\n",
            "Requirement already satisfied: pillow>=6.2.0 in /usr/local/lib/python3.7/dist-packages (from matplotlib<4,>=3.4.0->copulas<0.7,>=0.6.1->sdv) (7.1.2)\n",
            "Requirement already satisfied: pytz>=2017.3 in /usr/local/lib/python3.7/dist-packages (from pandas<2,>=1.1.3->sdv) (2018.9)\n",
            "Requirement already satisfied: six>=1.5 in /usr/local/lib/python3.7/dist-packages (from python-dateutil>=2.4->Faker<10,>=3.0.0->sdv) (1.15.0)\n",
            "Requirement already satisfied: psutil<6,>=5.7 in /usr/local/lib/python3.7/dist-packages (from rdt<0.7,>=0.6.2->sdv) (5.9.0)\n",
            "Requirement already satisfied: pyyaml<6,>=5.4.1 in /usr/local/lib/python3.7/dist-packages (from rdt<0.7,>=0.6.2->sdv) (5.4.1)\n",
            "Requirement already satisfied: threadpoolctl>=2.0.0 in /usr/local/lib/python3.7/dist-packages (from scikit-learn<2,>=0.24->ctgan<0.6,>=0.5.1->sdv) (3.1.0)\n",
            "Requirement already satisfied: joblib>=0.11 in /usr/local/lib/python3.7/dist-packages (from scikit-learn<2,>=0.24->ctgan<0.6,>=0.5.1->sdv) (1.1.0)\n",
            "Requirement already satisfied: pyts<0.13.0,>=0.12.0 in /usr/local/lib/python3.7/dist-packages (from sdmetrics<0.5,>=0.4.1->sdv) (0.12.0)\n",
            "Requirement already satisfied: numba>=0.48.0 in /usr/local/lib/python3.7/dist-packages (from pyts<0.13.0,>=0.12.0->sdmetrics<0.5,>=0.4.1->sdv) (0.51.2)\n",
            "Requirement already satisfied: setuptools in /usr/local/lib/python3.7/dist-packages (from numba>=0.48.0->pyts<0.13.0,>=0.12.0->sdmetrics<0.5,>=0.4.1->sdv) (57.4.0)\n",
            "Requirement already satisfied: llvmlite<0.35,>=0.34.0.dev0 in /usr/local/lib/python3.7/dist-packages (from numba>=0.48.0->pyts<0.13.0,>=0.12.0->sdmetrics<0.5,>=0.4.1->sdv) (0.34.0)\n"
          ]
        }
      ],
      "source": [
        "!pip install sdv\n",
        "import numpy as np\n",
        "import pandas as pd"
      ]
    },
    {
      "cell_type": "code",
      "source": [
        "df = pd.read_csv('/content/drive/MyDrive/Coffee_Stores_Data_1.csv')\n",
        "df.head()\n",
        "df_2000 = df.head(2000)"
      ],
      "metadata": {
        "id": "vl6RZOvyRpuO"
      },
      "execution_count": null,
      "outputs": []
    },
    {
      "cell_type": "code",
      "source": [
        "from sdv.tabular import CTGAN"
      ],
      "metadata": {
        "id": "gR5wm147RwEK"
      },
      "execution_count": null,
      "outputs": []
    },
    {
      "cell_type": "code",
      "source": [
        "model = CTGAN(primary_key=['StoreID','PLU'])\n",
        "model.fit(df_2000)\n",
        "new_data = model.sample(200)"
      ],
      "metadata": {
        "colab": {
          "base_uri": "https://localhost:8080/"
        },
        "id": "-Zc7k72XSGsW",
        "outputId": "2fe79067-b618-4cc1-874f-d9abcfd21f1f"
      },
      "execution_count": null,
      "outputs": [
        {
          "output_type": "stream",
          "name": "stderr",
          "text": [
            "/usr/local/lib/python3.7/dist-packages/sklearn/mixture/_base.py:282: ConvergenceWarning: Initialization 1 did not converge. Try different init parameters, or increase max_iter, tol or check for degenerate data.\n",
            "  ConvergenceWarning,\n",
            "/usr/local/lib/python3.7/dist-packages/sklearn/mixture/_base.py:282: ConvergenceWarning: Initialization 1 did not converge. Try different init parameters, or increase max_iter, tol or check for degenerate data.\n",
            "  ConvergenceWarning,\n",
            "/usr/local/lib/python3.7/dist-packages/sklearn/mixture/_base.py:146: ConvergenceWarning: Number of distinct clusters (1) found smaller than n_clusters (10). Possibly due to duplicate points in X.\n",
            "  .fit(X)\n",
            "/usr/local/lib/python3.7/dist-packages/sklearn/mixture/_base.py:282: ConvergenceWarning: Initialization 1 did not converge. Try different init parameters, or increase max_iter, tol or check for degenerate data.\n",
            "  ConvergenceWarning,\n",
            "/usr/local/lib/python3.7/dist-packages/ctgan/data_transformer.py:111: SettingWithCopyWarning: \n",
            "A value is trying to be set on a copy of a slice from a DataFrame.\n",
            "Try using .loc[row_indexer,col_indexer] = value instead\n",
            "\n",
            "See the caveats in the documentation: https://pandas.pydata.org/pandas-docs/stable/user_guide/indexing.html#returning-a-view-versus-a-copy\n",
            "  data[column_name] = data[column_name].to_numpy().flatten()\n",
            "/usr/local/lib/python3.7/dist-packages/ctgan/data_transformer.py:111: SettingWithCopyWarning: \n",
            "A value is trying to be set on a copy of a slice from a DataFrame.\n",
            "Try using .loc[row_indexer,col_indexer] = value instead\n",
            "\n",
            "See the caveats in the documentation: https://pandas.pydata.org/pandas-docs/stable/user_guide/indexing.html#returning-a-view-versus-a-copy\n",
            "  data[column_name] = data[column_name].to_numpy().flatten()\n",
            "/usr/local/lib/python3.7/dist-packages/ctgan/data_transformer.py:111: SettingWithCopyWarning: \n",
            "A value is trying to be set on a copy of a slice from a DataFrame.\n",
            "Try using .loc[row_indexer,col_indexer] = value instead\n",
            "\n",
            "See the caveats in the documentation: https://pandas.pydata.org/pandas-docs/stable/user_guide/indexing.html#returning-a-view-versus-a-copy\n",
            "  data[column_name] = data[column_name].to_numpy().flatten()\n",
            "/usr/local/lib/python3.7/dist-packages/ctgan/data_transformer.py:111: SettingWithCopyWarning: \n",
            "A value is trying to be set on a copy of a slice from a DataFrame.\n",
            "Try using .loc[row_indexer,col_indexer] = value instead\n",
            "\n",
            "See the caveats in the documentation: https://pandas.pydata.org/pandas-docs/stable/user_guide/indexing.html#returning-a-view-versus-a-copy\n",
            "  data[column_name] = data[column_name].to_numpy().flatten()\n",
            "/usr/local/lib/python3.7/dist-packages/ctgan/data_transformer.py:111: SettingWithCopyWarning: \n",
            "A value is trying to be set on a copy of a slice from a DataFrame.\n",
            "Try using .loc[row_indexer,col_indexer] = value instead\n",
            "\n",
            "See the caveats in the documentation: https://pandas.pydata.org/pandas-docs/stable/user_guide/indexing.html#returning-a-view-versus-a-copy\n",
            "  data[column_name] = data[column_name].to_numpy().flatten()\n",
            "/usr/local/lib/python3.7/dist-packages/ctgan/data_transformer.py:111: SettingWithCopyWarning: \n",
            "A value is trying to be set on a copy of a slice from a DataFrame.\n",
            "Try using .loc[row_indexer,col_indexer] = value instead\n",
            "\n",
            "See the caveats in the documentation: https://pandas.pydata.org/pandas-docs/stable/user_guide/indexing.html#returning-a-view-versus-a-copy\n",
            "  data[column_name] = data[column_name].to_numpy().flatten()\n"
          ]
        }
      ]
    },
    {
      "cell_type": "code",
      "source": [
        "new_data[\"Description\"].unique"
      ],
      "metadata": {
        "colab": {
          "base_uri": "https://localhost:8080/"
        },
        "id": "ExAtpge4TV8X",
        "outputId": "3c8634f1-5dee-42c7-b545-c2b1e50b5634"
      },
      "execution_count": null,
      "outputs": [
        {
          "output_type": "execute_result",
          "data": {
            "text/plain": [
              "<bound method Series.unique of 0                             Blueberry Scone\n",
              "1      Mixed Berries & Granola Yogurt Parfait\n",
              "2                       Mixed Fruit Snack Pot\n",
              "3                       Jalapeno Cheese Bagel\n",
              "4                         Chocolate Croissant\n",
              "                        ...                  \n",
              "195    Mixed Berries & Granola Yogurt Parfait\n",
              "196                     Mixed Fruit Snack Pot\n",
              "197                          Everything Bagel\n",
              "198                             Cinnamon Roll\n",
              "199                 Muffin - Double Chocolate\n",
              "Name: Description, Length: 200, dtype: object>"
            ]
          },
          "metadata": {},
          "execution_count": 20
        }
      ]
    },
    {
      "cell_type": "code",
      "source": [
        "print(new_data)"
      ],
      "metadata": {
        "colab": {
          "base_uri": "https://localhost:8080/"
        },
        "id": "KHXeCy3Kbp7j",
        "outputId": "fadb5f0c-b094-4fa7-891f-02fe795f273c"
      },
      "execution_count": null,
      "outputs": [
        {
          "output_type": "stream",
          "name": "stdout",
          "text": [
            "     StoreID BusinessDate  PLU                             Description  \\\n",
            "0          0    8/16/2019    0                         Blueberry Scone   \n",
            "1          1    8/12/2019    1  Mixed Berries & Granola Yogurt Parfait   \n",
            "2          2    7/27/2019    2                   Mixed Fruit Snack Pot   \n",
            "3          3    8/31/2019    3                   Jalapeno Cheese Bagel   \n",
            "4          4    7/28/2019    4                     Chocolate Croissant   \n",
            "..       ...          ...  ...                                     ...   \n",
            "195      195    8/30/2019  195  Mixed Berries & Granola Yogurt Parfait   \n",
            "196      196    8/30/2019  196                   Mixed Fruit Snack Pot   \n",
            "197      197    8/12/2019  197                        Everything Bagel   \n",
            "198      198     9/1/2019  198                           Cinnamon Roll   \n",
            "199      199    7/15/2019  199               Muffin - Double Chocolate   \n",
            "\n",
            "       ItemType CategoryLvl1Desc CategoryLvl2Desc  CategoryLvl3Desc  \\\n",
            "0          Core             Food        Bake Case    Cookies & Bars   \n",
            "1    Unassigned             Food        Cold Case      Ready to Eat   \n",
            "2    Unassigned             Food        Cold Case    Ready to Drink   \n",
            "3          Core             Food        Bake Case          Pastries   \n",
            "4          Core             Food        Bake Case  Muffins & Scones   \n",
            "..          ...              ...              ...               ...   \n",
            "195  Unassigned             Food        Cold Case      Ready to Eat   \n",
            "196  Unassigned             Food        Cold Case  Muffins & Scones   \n",
            "197        Core             Food        Bake Case            Bagels   \n",
            "198        Core             Food        Bake Case  Muffins & Scones   \n",
            "199        Core             Food        Bake Case  Muffins & Scones   \n",
            "\n",
            "     ReceivedQuantity  SoldQuantity  EndQuantity  LatestOrder  StockedOut  \\\n",
            "0                 9.0             0          0.0           11           1   \n",
            "1                 0.0             0          1.0            0           0   \n",
            "2                 0.0             0         16.0            0           0   \n",
            "3                 6.0             5          0.0            8           1   \n",
            "4                 6.0             3          0.0           14           1   \n",
            "..                ...           ...          ...          ...         ...   \n",
            "195               2.0             0          1.0            0           0   \n",
            "196               0.0             0          0.0            0           1   \n",
            "197               4.0             6          0.0           12           1   \n",
            "198               6.0             3          0.0           11           0   \n",
            "199               8.0             4          0.0            8           1   \n",
            "\n",
            "     GroupID  MissedSales  \n",
            "0          2     1.480092  \n",
            "1          2     0.000000  \n",
            "2          2     0.052821  \n",
            "3          2     0.402110  \n",
            "4          2     0.076803  \n",
            "..       ...          ...  \n",
            "195        2     0.026581  \n",
            "196        2     0.000000  \n",
            "197        2     0.287289  \n",
            "198        2     0.009784  \n",
            "199        2     0.228864  \n",
            "\n",
            "[200 rows x 15 columns]\n"
          ]
        }
      ]
    },
    {
      "cell_type": "code",
      "source": [
        ""
      ],
      "metadata": {
        "id": "RHIH4TDu3z7e"
      },
      "execution_count": null,
      "outputs": []
    }
  ]
}